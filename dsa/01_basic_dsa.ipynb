{
 "cells": [
  {
   "cell_type": "markdown",
   "metadata": {},
   "source": [
    "# Geospatial Data Structures & Algorithms\n",
    "\n",
    "*In spatial data science, and more generally in the computational sciences, we fundamentally must deal with abstractions and representaions of real-world phenomena. The predominant abstractions we use are features and layers, but even these are abstractions of several core fundamental data structures and algorithms that we use to perform computational geometry. These examples will show basic data structures and algorithms and well as geometric data structures and algorithms that are commonly used on spatial data.*\n",
    "\n",
    "Last updated: June 5, 2024"
   ]
  },
  {
   "cell_type": "code",
   "execution_count": 1,
   "metadata": {},
   "outputs": [],
   "source": [
    "# Imports\n",
    "import numpy as np"
   ]
  },
  {
   "cell_type": "markdown",
   "metadata": {},
   "source": [
    "# Data Structures\n",
    "\n",
    "Data structures are the fundamental primitives we use to store and manipulate data. The data structures we choose to represent our data needs to be specific to out individual needs, as each data structure has its intended use cases, as well as its performance pros and cons. This section will very briefly cover the most fundamental data structures: arrays, linked lists, stacks, queues, trees, and graphs. Although these may or may not be commonly used in spatial data science, they are all implemented \"under the hood\" of the tools we freqently use."
   ]
  },
  {
   "cell_type": "markdown",
   "metadata": {},
   "source": [
    "## Arrays\n",
    "\n",
    "Arrays are one of the most fundamental data structures. In spatial data science, rasters are really just two-dimensional arrays, with an X and Y dimension. Arrays have an index for each dimension which can be used to identify a given value at the combination of indexes across the dimensions.\n",
    "\n",
    "In Python, an array is really just a list, but we can also use NumPy to implement arrays, which can speed things up and provide us with fast, built-in methods to use on arrays.\n",
    "\n",
    "Although the examples below will use numerical values in the lists/arrays, other data types could also be used. In the context of spatial data science, numerical values are more commonly used."
   ]
  },
  {
   "cell_type": "code",
   "execution_count": 2,
   "metadata": {},
   "outputs": [
    {
     "name": "stdout",
     "output_type": "stream",
     "text": [
      "1\n"
     ]
    }
   ],
   "source": [
    "# One-Dimensional Array - 1x3\n",
    "one_d_array = [1, 2, 3]\n",
    "\n",
    "# Get first value\n",
    "print(one_d_array[0])"
   ]
  },
  {
   "cell_type": "code",
   "execution_count": 3,
   "metadata": {},
   "outputs": [
    {
     "name": "stdout",
     "output_type": "stream",
     "text": [
      "[1, 2, 3]\n",
      "\n",
      "\n",
      "6\n"
     ]
    }
   ],
   "source": [
    "# Two-Dimensional Array - 3x3\n",
    "two_d_array = [\n",
    "    [1, 2, 3],\n",
    "    [4, 5, 6],\n",
    "    [7, 8, 9]\n",
    "]\n",
    "\n",
    "# Get first row\n",
    "print(two_d_array[0])\n",
    "print(\"\\n\")\n",
    "\n",
    "# Get third value of second row\n",
    "print(two_d_array[1][2])"
   ]
  },
  {
   "cell_type": "code",
   "execution_count": 4,
   "metadata": {},
   "outputs": [
    {
     "name": "stdout",
     "output_type": "stream",
     "text": [
      "2\n",
      "\n",
      "\n",
      "(2, 2)\n",
      "\n",
      "\n",
      "[[2 4]\n",
      " [6 8]]\n"
     ]
    }
   ],
   "source": [
    "# NumPy Two-Dimensional Array - 2x2\n",
    "arr = np.array([[1, 2], [3, 4]])\n",
    "\n",
    "# Check Number of Dimensions\n",
    "print(arr.ndim)\n",
    "print(\"\\n\")\n",
    "\n",
    "# Check Shape\n",
    "print(arr.shape)\n",
    "print(\"\\n\")\n",
    "\n",
    "# Add two arrays together\n",
    "new_arr = arr + arr\n",
    "\n",
    "print(new_arr)"
   ]
  },
  {
   "cell_type": "markdown",
   "metadata": {},
   "source": [
    "## Linked Lists\n",
    "\n",
    "Linked Lists are another common data structure, and are similar to arrays, with the exception that rather than being stored in a contunous block of memory like arrays, in linked lists the values do not need to be stored in a continuous block of memory. This means that we need to implement a pointer so that we know the order of data values.\n",
    "\n",
    "In a singly linked list, there is a collections of nodes, each storing the value of that node as well as a pointer to the next node."
   ]
  },
  {
   "cell_type": "code",
   "execution_count": 5,
   "metadata": {},
   "outputs": [],
   "source": [
    "# Node Class\n",
    "class Node:\n",
    "    def __init__(self, value):\n",
    "        self.value = value\n",
    "        self.next = None\n",
    "\n",
    "# Linked List Class\n",
    "class LinkedList:\n",
    "    def __init__(self):\n",
    "        self.head = None\n",
    "\n",
    "    def insert_at_end(self, value):\n",
    "        # Create Node\n",
    "        new_node = Node(value)\n",
    "        \n",
    "        # Check if list is empty\n",
    "        if self.head is None:\n",
    "            self.head = new_node\n",
    "            return\n",
    "        \n",
    "        # Start at beginning of list\n",
    "        current_node = self.head\n",
    "        \n",
    "        # Traverse to next value in list\n",
    "        while(current_node.next):\n",
    "            # Set current node as next node\n",
    "            current_node = current_node.next\n",
    "\n",
    "        # For last value, set next as new node\n",
    "        current_node.next = new_node\n",
    "    \n",
    "    def traverse_list(self):\n",
    "        # Start at beginning of list\n",
    "        current_node = self.head\n",
    "        \n",
    "        # Check if empty list\n",
    "        if current_node is None:\n",
    "            return\n",
    "        \n",
    "        print(current_node.value)\n",
    "        \n",
    "        # Traverse to next value in list\n",
    "        while(current_node.next != None):\n",
    "            # Set current node as next node\n",
    "            current_node = current_node.next\n",
    "            \n",
    "            print(current_node.value)"
   ]
  },
  {
   "cell_type": "code",
   "execution_count": 6,
   "metadata": {},
   "outputs": [
    {
     "name": "stdout",
     "output_type": "stream",
     "text": [
      "\n",
      "\n",
      "100\n",
      "\n",
      "\n",
      "100\n",
      "4\n",
      "88\n",
      "\n",
      "\n"
     ]
    }
   ],
   "source": [
    "# Create empty list\n",
    "linked_list = LinkedList()\n",
    "\n",
    "# Show list contents\n",
    "linked_list.traverse_list()\n",
    "print(\"\\n\")\n",
    "\n",
    "# Add node\n",
    "linked_list.insert_at_end(100)\n",
    "\n",
    "# Show list contents\n",
    "linked_list.traverse_list()\n",
    "print(\"\\n\")\n",
    "\n",
    "# Add more nodes\n",
    "linked_list.insert_at_end(4)\n",
    "linked_list.insert_at_end(88)\n",
    "\n",
    "# Show list contents\n",
    "linked_list.traverse_list()\n",
    "print(\"\\n\")"
   ]
  },
  {
   "cell_type": "markdown",
   "metadata": {},
   "source": [
    "## Stacks & Queues\n",
    "\n",
    "Stacks and queues are both common linear data structures, which are used to keep track of objects by inserting and removing them in a specific way. Stacks store items in a First In Last Out (FILO) manner, like a stack of books. Queues store items in a First In First Out (FIFO) manner, like a line for checking out at a store.\n",
    "\n",
    "In Python, we can simply use a list to implement stacks and queues, but there are more performant ways to implement them based on how Python lists implement searching, inserting, and removing algorithms."
   ]
  },
  {
   "cell_type": "code",
   "execution_count": 7,
   "metadata": {},
   "outputs": [
    {
     "name": "stdout",
     "output_type": "stream",
     "text": [
      "[1]\n",
      "\n",
      "\n",
      "[1, 2, 3, 4]\n",
      "\n",
      "\n",
      "[1, 2, 3]\n",
      "\n",
      "\n"
     ]
    }
   ],
   "source": [
    "# Stack\n",
    "stack = []\n",
    "\n",
    "# Add item to stack\n",
    "stack.append(1)\n",
    "\n",
    "print(stack)\n",
    "print(\"\\n\")\n",
    "\n",
    "# Add more items to stack\n",
    "stack.append(2)\n",
    "stack.append(3)\n",
    "stack.append(4)\n",
    "\n",
    "print(stack)\n",
    "print(\"\\n\")\n",
    "\n",
    "# Remove an item from the stack\n",
    "stack.pop()\n",
    "\n",
    "print(stack)\n",
    "print(\"\\n\")"
   ]
  },
  {
   "cell_type": "code",
   "execution_count": 8,
   "metadata": {},
   "outputs": [
    {
     "name": "stdout",
     "output_type": "stream",
     "text": [
      "[1]\n",
      "\n",
      "\n",
      "[1, 2, 3, 4]\n",
      "\n",
      "\n",
      "[2, 3, 4]\n",
      "\n",
      "\n"
     ]
    }
   ],
   "source": [
    "# Queue\n",
    "queue = []\n",
    "\n",
    "# Add item to queue\n",
    "queue.append(1)\n",
    "\n",
    "print(queue)\n",
    "print(\"\\n\")\n",
    "\n",
    "# Add more items to queue\n",
    "queue.append(2)\n",
    "queue.append(3)\n",
    "queue.append(4)\n",
    "\n",
    "print(queue)\n",
    "print(\"\\n\")\n",
    "\n",
    "# Remove an item from the queue\n",
    "queue.pop(0)\n",
    "\n",
    "print(queue)\n",
    "print(\"\\n\")"
   ]
  },
  {
   "cell_type": "markdown",
   "metadata": {},
   "source": [
    "## Trees\n",
    "\n",
    "Trees are a commonly used data structure in spatial data science, specifically for things like spatial indexes. Trees are a more complicated data structure and there are many types of trees, but for the sake of simplicity a binary tree will be implemented to show the basics of how trees work."
   ]
  },
  {
   "cell_type": "code",
   "execution_count": 23,
   "metadata": {},
   "outputs": [
    {
     "name": "stdout",
     "output_type": "stream",
     "text": [
      "          Right Right Child\n",
      "     Right Child\n",
      "          Right Left Child\n",
      "Root\n",
      "          Left Right Child\n",
      "     Left Child\n",
      "          Left Left Child\n"
     ]
    }
   ],
   "source": [
    "# Create Node class\n",
    "class Node:\n",
    "    def __init__(self, value):\n",
    "        self.value = value\n",
    "        self.left = None\n",
    "        self.right = None\n",
    "    \n",
    "    def insert_left(self, value):\n",
    "        self.left = Node(value)\n",
    "    \n",
    "    def insert_right(self, value):\n",
    "        self.right = Node(value)\n",
    "    \n",
    "    def get_left(self):\n",
    "        return self.left\n",
    "    \n",
    "    def get_right(self):\n",
    "        return self.right\n",
    "    \n",
    "def print_tree(tree, level=0):\n",
    "    if tree is not None:\n",
    "        print_tree(tree.get_right(), level + 1)\n",
    "        \n",
    "        print(f\"{'     ' * level}{tree.value}\")\n",
    "        \n",
    "        print_tree(tree.get_left(), level + 1)\n",
    "\n",
    "# Create root node\n",
    "root = Node(\"Root\")\n",
    "\n",
    "# Insert some children nodes\n",
    "root.insert_left(\"Left Child\")\n",
    "root.insert_right(\"Right Child\")\n",
    "\n",
    "# Insert children nodes from the children nodes\n",
    "root.get_left().insert_left(\"Left Left Child\")\n",
    "root.get_left().insert_right(\"Left Right Child\")\n",
    "\n",
    "root.get_right().insert_left(\"Right Left Child\")\n",
    "root.get_right().insert_right(\"Right Right Child\")\n",
    "\n",
    "# Show Tree\n",
    "print_tree(root)"
   ]
  },
  {
   "cell_type": "markdown",
   "metadata": {},
   "source": [
    "## Graphs\n",
    "\n",
    "Similar to trees, graphs are another complex but commonly used data structure in spatial data science. Rather than having a hierarchical structure like trees, graphs are simply a set of nodes connected by edges. One example is a road network, which we can use graph algorithms to perform tasks like routing or network optimization.\n",
    "\n",
    "In this example, graphs will be implemented using adjacency lists and adjancency matrices, showing how nodes share connections to one another. We will also be assuming the graphs are undirected, meaning the edges show a conenction in both ways rather than just one.\n",
    "\n",
    "Also, note how the data structures created below expand upon those previously discussed (arrays and linked lists)."
   ]
  },
  {
   "cell_type": "code",
   "execution_count": 27,
   "metadata": {},
   "outputs": [],
   "source": [
    "# Adjacency Matrix\n",
    "class AdjacencyMatrix:\n",
    "    def __init__(self, n_vertices):\n",
    "        # Setup matrix with no edges\n",
    "        self.n_vertices = n_vertices\n",
    "        self.array = [[0 for x in range(n_vertices)] for y in range(n_vertices)]\n",
    "    \n",
    "    def add_edge(self, x, y):\n",
    "        # Handle invalid nodes\n",
    "        if x >= self.n_vertices or y >= self.n_vertices:\n",
    "            return \"Vertex does not exist\"\n",
    "        \n",
    "        # Handle node connections to self\n",
    "        if x == y:\n",
    "            return \"Vertex cannot connect to self\"\n",
    "        \n",
    "        # Update matrix\n",
    "        self.array[y][x]= 1\n",
    "        self.array[x][y]= 1\n",
    "    \n",
    "    def display(self):\n",
    "        # Loop through rows/columns of matrix and print each value\n",
    "        for i in range(self.n_vertices):\n",
    "            print()\n",
    "            for j in range(self.n_vertices):\n",
    "                print(\"\", self.array[i][j], end=\"\")\n",
    "        print(\"\\n\")"
   ]
  },
  {
   "cell_type": "code",
   "execution_count": 29,
   "metadata": {},
   "outputs": [
    {
     "name": "stdout",
     "output_type": "stream",
     "text": [
      "\n",
      " 0 0 0 0\n",
      " 0 0 0 0\n",
      " 0 0 0 0\n",
      " 0 0 0 0\n",
      "\n",
      "\n",
      " 0 1 0 0\n",
      " 1 0 0 0\n",
      " 0 0 0 0\n",
      " 0 0 0 0\n",
      "\n",
      "\n",
      " 0 1 1 0\n",
      " 1 0 0 0\n",
      " 1 0 0 1\n",
      " 0 0 1 0\n",
      "\n"
     ]
    }
   ],
   "source": [
    "# Initialize graph with 4 nodes and display\n",
    "matrix = AdjacencyMatrix(4)\n",
    "\n",
    "matrix.display()\n",
    "\n",
    "# Add Edge between Nodes 0 & 1\n",
    "matrix.add_edge(0, 1)\n",
    "\n",
    "matrix.display()\n",
    "\n",
    "# Add Edge between Nodes 0 & 2, 2 & 3\n",
    "matrix.add_edge(0, 2)\n",
    "matrix.add_edge(2, 3)\n",
    "\n",
    "matrix.display()"
   ]
  },
  {
   "cell_type": "code",
   "execution_count": 99,
   "metadata": {},
   "outputs": [],
   "source": [
    "# Adjacency List Node\n",
    "class Node:\n",
    "    def __init__(self, value):\n",
    "        self.value = value\n",
    "        self.next = None\n",
    "\n",
    "# Adjacency List\n",
    "class AdjacencyList:\n",
    "    def __init__(self, n_vertices):\n",
    "        # Setup list with no edges\n",
    "        self.n_vertices = n_vertices\n",
    "        self.graph = [None] * self.n_vertices\n",
    "\n",
    "    def add_edge(self, x, y):\n",
    "        # Handle invalid nodes\n",
    "        if x >= self.n_vertices or y >= self.n_vertices:\n",
    "            return \"Vertex does not exist\"\n",
    "        \n",
    "        # Handle node connections to self\n",
    "        if x == y:\n",
    "            return \"Vertex cannot connect to self\"\n",
    "        \n",
    "        # Create new node\n",
    "        node = Node(y)\n",
    "        \n",
    "        # Set node connections to list in graph\n",
    "        node.next = self.graph[x]\n",
    "        \n",
    "        # Set list in graph to new node\n",
    "        self.graph[x] = node\n",
    "\n",
    "    def display(self):\n",
    "        # Loop through vertices and display edges\n",
    "        for i in range(self.n_vertices):\n",
    "            print(i, end=\"\")\n",
    "            temp = self.graph[i]\n",
    "            while temp:\n",
    "                print(\" ->\", temp.value, end=\"\")\n",
    "                temp = temp.next\n",
    "            print(\", \", end=\"\")\n",
    "        print(\"\\n\")"
   ]
  },
  {
   "cell_type": "code",
   "execution_count": 100,
   "metadata": {},
   "outputs": [
    {
     "name": "stdout",
     "output_type": "stream",
     "text": [
      "0, 1, 2, 3, \n",
      "\n",
      "0 -> 1, 1 -> 0, 2, 3, \n",
      "\n",
      "0 -> 2 -> 1, 1 -> 0, 2 -> 3 -> 0, 3 -> 2, \n",
      "\n"
     ]
    }
   ],
   "source": [
    "# Initialize graph with 4 nodes and display\n",
    "adjacency_list = AdjacencyList(4)\n",
    "\n",
    "adjacency_list.display()\n",
    "\n",
    "# Add Edge between Nodes 0 & 1\n",
    "adjacency_list.add_edge(0, 1)\n",
    "adjacency_list.add_edge(1, 0)\n",
    "\n",
    "adjacency_list.display()\n",
    "\n",
    "# Add Edge between Nodes 0 & 2, 2 & 3, making it undirected\n",
    "adjacency_list.add_edge(0, 2)\n",
    "adjacency_list.add_edge(2, 0)\n",
    "\n",
    "adjacency_list.add_edge(2, 3)\n",
    "adjacency_list.add_edge(3, 2)\n",
    "\n",
    "adjacency_list.display()"
   ]
  },
  {
   "cell_type": "markdown",
   "metadata": {},
   "source": [
    "# Algorithms\n",
    "\n",
    "While data structures focus on storing data, algorithms are procedures and methods for solving problems that interact with and manipulate data structures. For example, there are different algorithms to sort an array or to search through a tree. Algorithms can vary greatly in the methodological approaches used, and they are often separated into different categories based upon how they go about solving the problem at hand. Different algorithms also have differing performance characteristics, both in terms of time complexity (i.e., how long it takes to run) and space complexity (i.e., how much memory it takes to run). In this section, a few basic examples of searching and sorting algorithms will be implemented, as well as examples of the following algorithmic paradigms: recursion, divide and conquer, greedy, backtracking, and dynamic programming."
   ]
  },
  {
   "cell_type": "markdown",
   "metadata": {},
   "source": [
    "## Searching\n",
    "\n",
    "Searching algorithms are some of the most crucial algorithms used across the computational sciences. In this example, we will look at the linear search algorithm to search for a value in a one-dimensional array. It is the most basic search algorithm but also inherently has some drawbacks due to performance."
   ]
  },
  {
   "cell_type": "code",
   "execution_count": 1,
   "metadata": {},
   "outputs": [],
   "source": [
    "# Linear search\n",
    "def linear_search(array, value_of_interest):\n",
    "    # Loop through items in array\n",
    "    for i in range(len(array)):\n",
    "        # If item of interest is found, return index\n",
    "        if array[i] == value_of_interest:\n",
    "            return i\n",
    "    # If item not found return -1\n",
    "    return -1"
   ]
  },
  {
   "cell_type": "code",
   "execution_count": 2,
   "metadata": {},
   "outputs": [
    {
     "data": {
      "text/plain": [
       "2"
      ]
     },
     "execution_count": 2,
     "metadata": {},
     "output_type": "execute_result"
    }
   ],
   "source": [
    "# Searching for third item\n",
    "linear_search([23, 4, 55, 16, 89], 55)"
   ]
  },
  {
   "cell_type": "code",
   "execution_count": 3,
   "metadata": {},
   "outputs": [
    {
     "data": {
      "text/plain": [
       "4"
      ]
     },
     "execution_count": 3,
     "metadata": {},
     "output_type": "execute_result"
    }
   ],
   "source": [
    "# Searching for fifth/last item\n",
    "linear_search([23, 4, 55, 16, 89], 89)"
   ]
  },
  {
   "cell_type": "code",
   "execution_count": 4,
   "metadata": {},
   "outputs": [
    {
     "data": {
      "text/plain": [
       "-1"
      ]
     },
     "execution_count": 4,
     "metadata": {},
     "output_type": "execute_result"
    }
   ],
   "source": [
    "# Searching for item that does not exist\n",
    "linear_search([23, 4, 55, 16, 89], 1000)"
   ]
  },
  {
   "cell_type": "markdown",
   "metadata": {},
   "source": [
    "## Sorting\n",
    "\n",
    "Similarly to searching algorithms, sorting algorithms are another common type of algorithm. They allow us to sort an array into order. We will look at one of the simplest algorithms, bubble sort."
   ]
  },
  {
   "cell_type": "code",
   "execution_count": 6,
   "metadata": {},
   "outputs": [],
   "source": [
    "# Bubble sort\n",
    "def bubble_sort(array):\n",
    "    # Loop through items in array\n",
    "    for i in range(len(array)):\n",
    "        # Keep track of whether or not elements in array are swapped or not\n",
    "        swapped = False\n",
    "        # Loop through rest of items\n",
    "        for j in range(len(array)-i-1):\n",
    "            # If element is greater than the next, swap their places\n",
    "            if array[j] > array[j+1]:\n",
    "                array[j], array[j+1] = array[j+1], array[j]\n",
    "                swapped = True\n",
    "        # If not swapped, break out of the loop\n",
    "        if swapped == False:\n",
    "            break\n",
    "    \n",
    "    return array"
   ]
  },
  {
   "cell_type": "code",
   "execution_count": 7,
   "metadata": {},
   "outputs": [
    {
     "data": {
      "text/plain": [
       "[4, 16, 23, 55, 89]"
      ]
     },
     "execution_count": 7,
     "metadata": {},
     "output_type": "execute_result"
    }
   ],
   "source": [
    "# Sorting array \n",
    "bubble_sort([23, 4, 55, 16, 89])"
   ]
  },
  {
   "cell_type": "code",
   "execution_count": 8,
   "metadata": {},
   "outputs": [
    {
     "data": {
      "text/plain": [
       "[3, 12, 90, 289, 1000]"
      ]
     },
     "execution_count": 8,
     "metadata": {},
     "output_type": "execute_result"
    }
   ],
   "source": [
    "# Sorting array \n",
    "bubble_sort([1000, 3, 289, 12, 90])"
   ]
  },
  {
   "cell_type": "markdown",
   "metadata": {},
   "source": [
    "## Recursion\n",
    "\n",
    "Recursion is a fundamental approach in computer science used to break down a problem into similar, smaller problems. Recursive algorithms are implemented by having a function call itself. In the example below, we will see how we can use recursion to print out the numbers from 1 to N, without ever having to use a loop."
   ]
  },
  {
   "cell_type": "code",
   "execution_count": 1,
   "metadata": {},
   "outputs": [],
   "source": [
    "def print_numbers(n):\n",
    "    # If n > 0 call function, else do nothing\n",
    "    # This is called the base case (what stops the recursive function calls)\n",
    "    if n > 0:\n",
    "        # Call function on itself, with n-1\n",
    "        print_numbers(n - 1)\n",
    "        \n",
    "        # Print n\n",
    "        print(n)"
   ]
  },
  {
   "cell_type": "code",
   "execution_count": 2,
   "metadata": {},
   "outputs": [
    {
     "name": "stdout",
     "output_type": "stream",
     "text": [
      "1\n",
      "2\n",
      "3\n",
      "4\n",
      "5\n"
     ]
    }
   ],
   "source": [
    "# Calling function\n",
    "print_numbers(5)"
   ]
  },
  {
   "cell_type": "markdown",
   "metadata": {},
   "source": [
    "Now that we have recusion down, let's look at how we could implement the Fibonacci sequence using recusion. As a reminder, teh Fibonacci sequence is simply a series of numbers that is creating by summing the prior two numbers, with the first two numbers being 0 and 1. For example, the sequece goes: 0, 1, 1, 2, 3, 5, 8, 13, 21, 34, 55, etc...\n",
    "\n",
    "When calling the function, you'll notice that the time it takes to run the function dramatically increases when n is increased. This is one of the downfalls of using a recursive algorithm for solving the Fibonacci sequence. We will look at other approaches to see how the time complexity can be improved upon."
   ]
  },
  {
   "cell_type": "code",
   "execution_count": 3,
   "metadata": {},
   "outputs": [],
   "source": [
    "def fibonacci_recursion(n):\n",
    "    # Base case, return 0 if n is 0\n",
    "    if n == 0:\n",
    "        return 0\n",
    "    \n",
    "    # If n is 1 or 2, return 1\n",
    "    elif n == 1 or n == 2:\n",
    "        return 1\n",
    "    \n",
    "    # If n is > 2, recursively sum the previous 2 n values\n",
    "    else:\n",
    "        return fibonacci_recursion(n-1) + fibonacci_recursion(n-2)"
   ]
  },
  {
   "cell_type": "code",
   "execution_count": 21,
   "metadata": {},
   "outputs": [
    {
     "name": "stdout",
     "output_type": "stream",
     "text": [
      "CPU times: user 15 µs, sys: 0 ns, total: 15 µs\n",
      "Wall time: 18.1 µs\n"
     ]
    },
    {
     "data": {
      "text/plain": [
       "55"
      ]
     },
     "execution_count": 21,
     "metadata": {},
     "output_type": "execute_result"
    }
   ],
   "source": [
    "# Calling function and timing how long it takes to run\n",
    "%time fibonacci_recursion(10)"
   ]
  },
  {
   "cell_type": "code",
   "execution_count": 20,
   "metadata": {},
   "outputs": [
    {
     "name": "stdout",
     "output_type": "stream",
     "text": [
      "CPU times: user 13.9 s, sys: 187 ms, total: 14.1 s\n",
      "Wall time: 14.2 s\n"
     ]
    },
    {
     "data": {
      "text/plain": [
       "102334155"
      ]
     },
     "execution_count": 20,
     "metadata": {},
     "output_type": "execute_result"
    }
   ],
   "source": [
    "# Calling function on bigger number and timing how long it takes to run\n",
    "%time fibonacci_recursion(40)"
   ]
  },
  {
   "cell_type": "markdown",
   "metadata": {},
   "source": [
    "## Dynamic Programming\n",
    "\n",
    "Dynamic programming algorithms operate similar to recursion, since they break the main problem into smaller, similar problems. However, they improve upon recursion by saving intermediate results, allowing redundant calculations to be avoided, since the output may already be known. For thr Fibonacci sequence, this means that we can improve upon the recursive implementation by storing values that are computed and accessing them later if they are needed, rather than computing the value every time it is needed. This is why recusion becomes so slow with large n values, because many redundant calculations are being made.\n",
    "\n",
    "Look at the results below and see how much quicker this implementation is!"
   ]
  },
  {
   "cell_type": "code",
   "execution_count": 1,
   "metadata": {},
   "outputs": [],
   "source": [
    "def fibonacci_dynamic(n, memo={}):\n",
    "    # If n is known, return value\n",
    "    if n in memo:\n",
    "        return memo[n]\n",
    "    \n",
    "    # If n is <= 1, return n\n",
    "    if n <= 1:\n",
    "        return n\n",
    "    \n",
    "    # Else, add calculation to memo\n",
    "    memo[n] = fibonacci_dynamic(n-1, memo) + fibonacci_dynamic(n-2, memo)\n",
    "    \n",
    "    return memo[n]"
   ]
  },
  {
   "cell_type": "code",
   "execution_count": 2,
   "metadata": {},
   "outputs": [
    {
     "name": "stdout",
     "output_type": "stream",
     "text": [
      "CPU times: user 7 µs, sys: 0 ns, total: 7 µs\n",
      "Wall time: 7.87 µs\n"
     ]
    },
    {
     "data": {
      "text/plain": [
       "55"
      ]
     },
     "execution_count": 2,
     "metadata": {},
     "output_type": "execute_result"
    }
   ],
   "source": [
    "# Calling function and timing how long it takes to run\n",
    "%time fibonacci_dynamic(10)"
   ]
  },
  {
   "cell_type": "code",
   "execution_count": 3,
   "metadata": {},
   "outputs": [
    {
     "name": "stdout",
     "output_type": "stream",
     "text": [
      "CPU times: user 18 µs, sys: 12 µs, total: 30 µs\n",
      "Wall time: 31.2 µs\n"
     ]
    },
    {
     "data": {
      "text/plain": [
       "102334155"
      ]
     },
     "execution_count": 3,
     "metadata": {},
     "output_type": "execute_result"
    }
   ],
   "source": [
    "# Calling function on bigger number and timing how long it takes to run\n",
    "%time fibonacci_dynamic(40)"
   ]
  },
  {
   "cell_type": "markdown",
   "metadata": {},
   "source": [
    "## Backtracking Algorithms\n",
    "\n",
    "Backtracking algorithms try to incrementally solve a problem by trying something and backtracking when the solution fails to try something else. In this example, we will look at the subset sum problem, which is used to determine whether or not any subset of an array of integers can sum up to a value. Backtracking will continue to search through options until a definitive determination is made."
   ]
  },
  {
   "cell_type": "code",
   "execution_count": 4,
   "metadata": {},
   "outputs": [],
   "source": [
    "def subset_sum(numbers, target, subset=[]):\n",
    "    # If target is 0, no numbers are needed to be true\n",
    "    if target == 0:\n",
    "        print(subset)\n",
    "        return True\n",
    "    \n",
    "    # If invalid target or no numbers left, return False\n",
    "    if target < 0 or not numbers:\n",
    "        return False\n",
    "    \n",
    "    # Make recursive call with first number as subset\n",
    "    if subset_sum(numbers[1:], target - numbers[0], subset + [numbers[0]]):\n",
    "        return True\n",
    "    \n",
    "    # Make recursive call without first number\n",
    "    if subset_sum(numbers[1:], target, subset):\n",
    "        return True\n",
    "    \n",
    "    # If no solution, return False\n",
    "    return False"
   ]
  },
  {
   "cell_type": "code",
   "execution_count": 8,
   "metadata": {},
   "outputs": [
    {
     "name": "stdout",
     "output_type": "stream",
     "text": [
      "[4, 12]\n"
     ]
    },
    {
     "data": {
      "text/plain": [
       "True"
      ]
     },
     "execution_count": 8,
     "metadata": {},
     "output_type": "execute_result"
    }
   ],
   "source": [
    "# Calling function with solution\n",
    "subset_sum([3, 34, 4, 12, 5, 2], 16)"
   ]
  },
  {
   "cell_type": "code",
   "execution_count": 9,
   "metadata": {},
   "outputs": [
    {
     "name": "stdout",
     "output_type": "stream",
     "text": [
      "[3, 4]\n"
     ]
    },
    {
     "data": {
      "text/plain": [
       "True"
      ]
     },
     "execution_count": 9,
     "metadata": {},
     "output_type": "execute_result"
    }
   ],
   "source": [
    "# Calling function with more than one solution\n",
    "subset_sum([3, 34, 4, 12, 5, 2], 7)"
   ]
  },
  {
   "cell_type": "code",
   "execution_count": 7,
   "metadata": {},
   "outputs": [
    {
     "data": {
      "text/plain": [
       "False"
      ]
     },
     "execution_count": 7,
     "metadata": {},
     "output_type": "execute_result"
    }
   ],
   "source": [
    "# Calling function with no solution\n",
    "subset_sum([3, 34, 4, 12, 5, 2], 13)"
   ]
  },
  {
   "cell_type": "markdown",
   "metadata": {},
   "source": [
    "## Greedy Algorithms\n",
    "\n",
    "Greedy algorithms are used to solve optimization problems by makeing the locally optimal choice, in hopes that it is the globally optimal choice. In this example, we will use a greedy algorithm to determine which coins to use to make a set amount of change."
   ]
  },
  {
   "cell_type": "code",
   "execution_count": 10,
   "metadata": {},
   "outputs": [],
   "source": [
    "def find_coins(coins, amount):\n",
    "    # Sort the coins that you have in reverse order\n",
    "    coins.sort(reverse=True)\n",
    "    \n",
    "    # Create list to store result\n",
    "    result = []\n",
    "    \n",
    "    # Loop through coin amounts\n",
    "    for coin in coins:\n",
    "        # Check if coin amount is < amount left\n",
    "        while amount >= coin:\n",
    "            # Subtract coin value from amount left, add coin to result\n",
    "            amount -= coin\n",
    "            result.append(coin)\n",
    "    \n",
    "    return result"
   ]
  },
  {
   "cell_type": "code",
   "execution_count": 11,
   "metadata": {},
   "outputs": [
    {
     "data": {
      "text/plain": [
       "[25, 5, 1, 1, 1]"
      ]
     },
     "execution_count": 11,
     "metadata": {},
     "output_type": "execute_result"
    }
   ],
   "source": [
    "# Calling function\n",
    "find_coins([1, 5, 10, 25], 33)"
   ]
  },
  {
   "cell_type": "code",
   "execution_count": 12,
   "metadata": {},
   "outputs": [
    {
     "data": {
      "text/plain": [
       "[25, 25, 25, 1, 1, 1, 1]"
      ]
     },
     "execution_count": 12,
     "metadata": {},
     "output_type": "execute_result"
    }
   ],
   "source": [
    "# Calling function\n",
    "find_coins([1, 5, 10, 25], 79)"
   ]
  },
  {
   "cell_type": "code",
   "execution_count": 13,
   "metadata": {},
   "outputs": [
    {
     "data": {
      "text/plain": [
       "[4, 1, 1]"
      ]
     },
     "execution_count": 13,
     "metadata": {},
     "output_type": "execute_result"
    }
   ],
   "source": [
    "# Calling function with nonoptimal solution\n",
    "# Optimal solution would be [3, 3] but higher denominations are prioritized in this algorithm\n",
    "find_coins([1, 3, 4], 6)"
   ]
  },
  {
   "cell_type": "markdown",
   "metadata": {},
   "source": [
    "## Divide & Conquer\n",
    "\n",
    "Similar to many of the previous types of algorithms, divide and conquer algorithms work be splitting a problem into many similar, smaller problems. Divide and conquer algorithms work specifically by dividing the main problem into the smaller problems, solving those problems, and then merging the subproblem results into the final result. We can use this approach to find the maximum value of an array, shown below."
   ]
  },
  {
   "cell_type": "code",
   "execution_count": 15,
   "metadata": {},
   "outputs": [],
   "source": [
    "def find_max(array):\n",
    "    # Base case\n",
    "    if len(array) == 1:\n",
    "        return array[0]\n",
    "    \n",
    "    # Split the array in half\n",
    "    mid = len(array) // 2\n",
    "    left_max = find_max(array[:mid])\n",
    "    right_max = find_max(array[mid:])\n",
    "    \n",
    "    # Combine the maximum values from the left and right halves\n",
    "    if left_max > right_max:\n",
    "        return left_max\n",
    "    else:\n",
    "        return right_max"
   ]
  },
  {
   "cell_type": "code",
   "execution_count": 16,
   "metadata": {},
   "outputs": [
    {
     "data": {
      "text/plain": [
       "18"
      ]
     },
     "execution_count": 16,
     "metadata": {},
     "output_type": "execute_result"
    }
   ],
   "source": [
    "# Calling function\n",
    "find_max([3, 7, 2, 12, 9, 5, 18])"
   ]
  },
  {
   "cell_type": "code",
   "execution_count": 17,
   "metadata": {},
   "outputs": [
    {
     "data": {
      "text/plain": [
       "12"
      ]
     },
     "execution_count": 17,
     "metadata": {},
     "output_type": "execute_result"
    }
   ],
   "source": [
    "# Calling function\n",
    "find_max([3, 7, 2, 12, 9, 5, 1])"
   ]
  },
  {
   "cell_type": "code",
   "execution_count": 18,
   "metadata": {},
   "outputs": [
    {
     "data": {
      "text/plain": [
       "3"
      ]
     },
     "execution_count": 18,
     "metadata": {},
     "output_type": "execute_result"
    }
   ],
   "source": [
    "# Calling function\n",
    "find_max([3])"
   ]
  }
 ],
 "metadata": {
  "kernelspec": {
   "display_name": "geo",
   "language": "python",
   "name": "python3"
  },
  "language_info": {
   "codemirror_mode": {
    "name": "ipython",
    "version": 3
   },
   "file_extension": ".py",
   "mimetype": "text/x-python",
   "name": "python",
   "nbconvert_exporter": "python",
   "pygments_lexer": "ipython3",
   "version": "3.10.10"
  }
 },
 "nbformat": 4,
 "nbformat_minor": 2
}
