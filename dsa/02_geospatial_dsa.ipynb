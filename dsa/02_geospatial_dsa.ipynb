{
 "cells": [
  {
   "cell_type": "markdown",
   "metadata": {},
   "source": [
    "# Geospatial Data Structures & Algorithms\n",
    "\n",
    "*In spatial data science, and more generally in the computational sciences, we fundamentally must deal with abstractions and representaions of real-world phenomena. The predominant abstractions we use are features and layers, but even these are abstractions of several core fundamental data structures and algorithms that we use to perform computational geometry. These examples will show basic data structures and algorithms and well as geometric data structures and algorithms that are commonly used on spatial data.*\n",
    "\n",
    "Last updated: June 5, 2024"
   ]
  },
  {
   "cell_type": "markdown",
   "metadata": {},
   "source": [
    "# Geometric Data Structures\n",
    "\n",
    "Expanding upon the more typical data structures used, there are also specialised data structures used to represent, store, and query spatial data. In this section, we will look at basic implementations of geometric objects, as well as the building blocks of spatial indexes."
   ]
  },
  {
   "cell_type": "markdown",
   "metadata": {},
   "source": [
    "## Basic Geometric Data Structures\n",
    "\n",
    "The most fundamental geometric data structures are often called primitives, which are points, polygons, and lines for vector data, in addition to an array/raster. In this section, we will look at a bare bones implementation of points, lines, and polygons to see how they build off one another."
   ]
  },
  {
   "cell_type": "code",
   "execution_count": 11,
   "metadata": {},
   "outputs": [],
   "source": [
    "# Implement a point class\n",
    "class Point:\n",
    "    def __init__(self, x: float, y: float):\n",
    "        # Each point has an x and y value\n",
    "        self.x = x\n",
    "        self.y = y\n",
    "    \n",
    "    # Define a helper method to see if points are identical\n",
    "    def __eq__(self, other):\n",
    "        # Check if x and y are the same\n",
    "        return self.x == other.x and self.y == other.y\n",
    "\n",
    "# Implement a line class\n",
    "class Line:\n",
    "    def __init__(self, points: list[Point]):\n",
    "        # Each line is made of a list of points\n",
    "        self.points = points\n",
    "        \n",
    "        # Check if first and last points are identical\n",
    "        # If they are, it should be a polygon\n",
    "        if points[0] == points[-1]:\n",
    "            raise Exception(\"Line is closed. Should be polygon.\")\n",
    "\n",
    "# Implement a polygon class\n",
    "class Polygon:\n",
    "    def __init__(self, points: list[Point]):\n",
    "        # Each line is made of a list of points\n",
    "        self.points = points\n",
    "        \n",
    "        # Check if first and last points are identical\n",
    "        # If they aren't, add copy of first point to end\n",
    "        if points[0] != points[-1]:\n",
    "            points.append(points[0])\n",
    "            print(\"Closing polygon.\")\n",
    "        \n",
    "        # Make sure there are at least three points\n",
    "        if len(points) < 3:\n",
    "            raise Exception(\"Invalid polygon. Need at least three points.\")"
   ]
  },
  {
   "cell_type": "code",
   "execution_count": 10,
   "metadata": {},
   "outputs": [
    {
     "name": "stdout",
     "output_type": "stream",
     "text": [
      "X is 1.0 and Y is 2.0\n"
     ]
    }
   ],
   "source": [
    "# Create a point\n",
    "point_1 = Point(1.0, 2.0)\n",
    "\n",
    "print(f\"X is {point_1.x} and Y is {point_1.y}\")"
   ]
  },
  {
   "cell_type": "code",
   "execution_count": 12,
   "metadata": {},
   "outputs": [
    {
     "name": "stdout",
     "output_type": "stream",
     "text": [
      "Vertex: X=1.0 Y=2.0\n",
      "Vertex: X=3.0 Y=4.0\n"
     ]
    }
   ],
   "source": [
    "# Create a line\n",
    "point_2 = Point(1.0, 2.0)\n",
    "point_3 = Point(3.0, 4.0)\n",
    "\n",
    "line_1 = Line([point_2, point_3])\n",
    "\n",
    "for vertex in line_1.points:\n",
    "    print(f\"Vertex: X={vertex.x} Y={vertex.y}\")"
   ]
  },
  {
   "cell_type": "code",
   "execution_count": 13,
   "metadata": {},
   "outputs": [
    {
     "ename": "Exception",
     "evalue": "Line is closed. Should be polygon.",
     "output_type": "error",
     "traceback": [
      "\u001b[0;31m---------------------------------------------------------------------------\u001b[0m",
      "\u001b[0;31mException\u001b[0m                                 Traceback (most recent call last)",
      "Cell \u001b[0;32mIn[13], line 4\u001b[0m\n\u001b[1;32m      1\u001b[0m \u001b[38;5;66;03m# Create a closed (invalid) line\u001b[39;00m\n\u001b[1;32m      2\u001b[0m point_4 \u001b[38;5;241m=\u001b[39m Point(\u001b[38;5;241m1.0\u001b[39m, \u001b[38;5;241m2.0\u001b[39m)\n\u001b[0;32m----> 4\u001b[0m line_2 \u001b[38;5;241m=\u001b[39m \u001b[43mLine\u001b[49m\u001b[43m(\u001b[49m\u001b[43m[\u001b[49m\u001b[43mpoint_2\u001b[49m\u001b[43m,\u001b[49m\u001b[43m \u001b[49m\u001b[43mpoint_3\u001b[49m\u001b[43m,\u001b[49m\u001b[43m \u001b[49m\u001b[43mpoint_4\u001b[49m\u001b[43m]\u001b[49m\u001b[43m)\u001b[49m\n",
      "Cell \u001b[0;32mIn[11], line 22\u001b[0m, in \u001b[0;36mLine.__init__\u001b[0;34m(self, points)\u001b[0m\n\u001b[1;32m     19\u001b[0m \u001b[38;5;66;03m# Check if first and last points are identical\u001b[39;00m\n\u001b[1;32m     20\u001b[0m \u001b[38;5;66;03m# If they are, it should be a polygon\u001b[39;00m\n\u001b[1;32m     21\u001b[0m \u001b[38;5;28;01mif\u001b[39;00m points[\u001b[38;5;241m0\u001b[39m] \u001b[38;5;241m==\u001b[39m points[\u001b[38;5;241m-\u001b[39m\u001b[38;5;241m1\u001b[39m]:\n\u001b[0;32m---> 22\u001b[0m     \u001b[38;5;28;01mraise\u001b[39;00m \u001b[38;5;167;01mException\u001b[39;00m(\u001b[38;5;124m\"\u001b[39m\u001b[38;5;124mLine is closed. Should be polygon.\u001b[39m\u001b[38;5;124m\"\u001b[39m)\n",
      "\u001b[0;31mException\u001b[0m: Line is closed. Should be polygon."
     ]
    }
   ],
   "source": [
    "# Create a closed (invalid) line\n",
    "point_4 = Point(1.0, 2.0)\n",
    "\n",
    "line_2 = Line([point_2, point_3, point_4])"
   ]
  },
  {
   "cell_type": "code",
   "execution_count": 16,
   "metadata": {},
   "outputs": [
    {
     "name": "stdout",
     "output_type": "stream",
     "text": [
      "Vertex: X=1.0 Y=2.0\n",
      "Vertex: X=3.0 Y=4.0\n",
      "Vertex: X=1.0 Y=2.0\n"
     ]
    }
   ],
   "source": [
    "# Create a polygon\n",
    "polygon_1 = Polygon([point_2, point_3, point_4])\n",
    "\n",
    "for vertex in polygon_1.points:\n",
    "    print(f\"Vertex: X={vertex.x} Y={vertex.y}\")"
   ]
  },
  {
   "cell_type": "code",
   "execution_count": 17,
   "metadata": {},
   "outputs": [
    {
     "name": "stdout",
     "output_type": "stream",
     "text": [
      "Closing polygon.\n",
      "Vertex: X=1.0 Y=2.0\n",
      "Vertex: X=3.0 Y=4.0\n",
      "Vertex: X=1.0 Y=2.0\n"
     ]
    }
   ],
   "source": [
    "# Create a polygon that needs to be closed\n",
    "polygon_2 = Polygon([point_2, point_3])\n",
    "\n",
    "for vertex in polygon_2.points:\n",
    "    print(f\"Vertex: X={vertex.x} Y={vertex.y}\")"
   ]
  },
  {
   "cell_type": "code",
   "execution_count": 18,
   "metadata": {},
   "outputs": [
    {
     "ename": "Exception",
     "evalue": "Invalid polygon. Need at least three points.",
     "output_type": "error",
     "traceback": [
      "\u001b[0;31m---------------------------------------------------------------------------\u001b[0m",
      "\u001b[0;31mException\u001b[0m                                 Traceback (most recent call last)",
      "Cell \u001b[0;32mIn[18], line 2\u001b[0m\n\u001b[1;32m      1\u001b[0m \u001b[38;5;66;03m# Create an invalid polygon\u001b[39;00m\n\u001b[0;32m----> 2\u001b[0m polygon_3 \u001b[38;5;241m=\u001b[39m \u001b[43mPolygon\u001b[49m\u001b[43m(\u001b[49m\u001b[43m[\u001b[49m\u001b[43mpoint_2\u001b[49m\u001b[43m]\u001b[49m\u001b[43m)\u001b[49m\n\u001b[1;32m      4\u001b[0m \u001b[38;5;28;01mfor\u001b[39;00m vertex \u001b[38;5;129;01min\u001b[39;00m polygon_3\u001b[38;5;241m.\u001b[39mpoints:\n\u001b[1;32m      5\u001b[0m     \u001b[38;5;28mprint\u001b[39m(\u001b[38;5;124mf\u001b[39m\u001b[38;5;124m\"\u001b[39m\u001b[38;5;124mVertex: X=\u001b[39m\u001b[38;5;132;01m{\u001b[39;00mvertex\u001b[38;5;241m.\u001b[39mx\u001b[38;5;132;01m}\u001b[39;00m\u001b[38;5;124m Y=\u001b[39m\u001b[38;5;132;01m{\u001b[39;00mvertex\u001b[38;5;241m.\u001b[39my\u001b[38;5;132;01m}\u001b[39;00m\u001b[38;5;124m\"\u001b[39m)\n",
      "Cell \u001b[0;32mIn[11], line 38\u001b[0m, in \u001b[0;36mPolygon.__init__\u001b[0;34m(self, points)\u001b[0m\n\u001b[1;32m     36\u001b[0m \u001b[38;5;66;03m# Make sure there are at least three points\u001b[39;00m\n\u001b[1;32m     37\u001b[0m \u001b[38;5;28;01mif\u001b[39;00m \u001b[38;5;28mlen\u001b[39m(points) \u001b[38;5;241m<\u001b[39m \u001b[38;5;241m3\u001b[39m:\n\u001b[0;32m---> 38\u001b[0m     \u001b[38;5;28;01mraise\u001b[39;00m \u001b[38;5;167;01mException\u001b[39;00m(\u001b[38;5;124m\"\u001b[39m\u001b[38;5;124mInvalid polygon. Need at least three points.\u001b[39m\u001b[38;5;124m\"\u001b[39m)\n",
      "\u001b[0;31mException\u001b[0m: Invalid polygon. Need at least three points."
     ]
    }
   ],
   "source": [
    "# Create an invalid polygon\n",
    "polygon_3 = Polygon([point_2])\n",
    "\n",
    "for vertex in polygon_3.points:\n",
    "    print(f\"Vertex: X={vertex.x} Y={vertex.y}\")"
   ]
  },
  {
   "cell_type": "markdown",
   "metadata": {},
   "source": [
    "## Advanced Geospatial Data Structures: R-Trees\n",
    "\n",
    "There are also more advanced data structures that can be used in spatial data science, not only including ways to represent different types of data (e.g., TIN, Space Time Cube, etc...) but also ways to index spatial data. One common way to create a spatial index is to use an R-Tree, which is a type of tree data structure specifically intended for spatial/multidimensional data. Below we will see a basic implementation of how an R-Tree can be created to efficiently query spatial data.\n",
    "\n",
    "This implementation is not optimized and provides a very basic example, but works by doing the following.\n",
    "\n",
    "- Each node of the tree indicates an area represented as a Minimum Bounding Rectangle (MBR) used to store the points within the given MBR.\n",
    "- Each node may also consist of up to four other nodes (meaning they are nested as children of a given node)\n",
    "- In order to insert data into the tree, the tree must find the correct node to insert it into, and if need be, will also need to split a node into multiple nodes to ensuer that there are no more than four children for the given node \n",
    "- In order to query the points within an MBR on the tree, each node's MBR is checked to see if it intersects with the query MBR. If it does, then the children nodes' MBRs are also checked (unless it is a leaf, in which case the points are then added to the result)"
   ]
  },
  {
   "cell_type": "code",
   "execution_count": 1,
   "metadata": {},
   "outputs": [],
   "source": [
    "# Class for a Minimum Bounding Rectangle (MBR)\n",
    "class Rectangle:\n",
    "    # Each MBR will have a min/max x & y\n",
    "    def __init__(self, x_min: float, y_min: float, x_max: float, y_max: float):\n",
    "        self.x_min = x_min\n",
    "        self.y_min = y_min\n",
    "        self.x_max = x_max\n",
    "        self.y_max = y_max\n",
    "\n",
    "    # Method to check if two MBRs intersect at all (do corners overlap at all?)\n",
    "    def intersects(self, other):\n",
    "        return not (self.x_max < other.x_min or self.x_min > other.x_max or self.y_max < other.y_min or self.y_min > other.y_max)\n",
    "\n",
    "    # Method to check if point is contained within the MBR\n",
    "    def contains(self, point: tuple):\n",
    "        x, y = point\n",
    "        return self.x_min <= x <= self.x_max and self.y_min <= y <= self.y_max\n",
    "    \n",
    "    # Method to expand the corners of the MBR\n",
    "    def expand(self, point: tuple):\n",
    "        x, y = point\n",
    "        new_x_min = min(self.x_min, x)\n",
    "        new_y_min = min(self.y_min, y)\n",
    "        new_x_max = max(self.x_max, x)\n",
    "        new_y_max = max(self.y_max, y)\n",
    "        return Rectangle(new_x_min, new_y_min, new_x_max, new_y_max)\n",
    "\n",
    "    # Method to calculate the area of the MBR\n",
    "    def area(self):\n",
    "        return (self.x_max - self.x_min) * (self.y_max - self.y_min)"
   ]
  },
  {
   "cell_type": "code",
   "execution_count": 5,
   "metadata": {},
   "outputs": [],
   "source": [
    "# Class for R-Tree Node\n",
    "class Node:\n",
    "    # Creates new node with given MBR\n",
    "    def __init__(self, mbr: Rectangle, children: list | None = None, is_leaf: bool = True):\n",
    "        self.mbr = mbr\n",
    "        self.children = children or []\n",
    "        self.is_leaf = is_leaf\n",
    "\n",
    "    # Method to insert a new point\n",
    "    def insert(self, point: tuple):\n",
    "        if self.is_leaf:\n",
    "            self.children.append(point)\n",
    "            self.mbr = self.mbr.expand(point)\n",
    "            # Only allowing up to four children\n",
    "            if len(self.children) > 4:\n",
    "                self.split()\n",
    "        else:\n",
    "            best_child = min(self.children, key=lambda child: child.get_expansion_area(point))\n",
    "            best_child.insert(point)\n",
    "            self.mbr = self.mbr.expand(point)\n",
    "\n",
    "    # Method to calculate the difference in area from the original MBR to the expanded MBR\n",
    "    def get_expansion_area(self, point: tuple):\n",
    "        new_mbr = self.mbr.expand(point)\n",
    "        return new_mbr.area() - self.mbr.area()\n",
    "\n",
    "    # Method to split node, very basic way but not optimal\n",
    "    def split(self):\n",
    "        midpoint = len(self.children) // 2\n",
    "        left_children = self.children[:midpoint]\n",
    "        right_children = self.children[midpoint:]\n",
    "        \n",
    "        left_mbr = Rectangle(\n",
    "            min(p[0] for p in left_children),\n",
    "            min(p[1] for p in left_children),\n",
    "            max(p[0] for p in left_children),\n",
    "            max(p[1] for p in left_children)\n",
    "        )\n",
    "\n",
    "        right_mbr = Rectangle(\n",
    "            min(p[0] for p in right_children),\n",
    "            min(p[1] for p in right_children),\n",
    "            max(p[0] for p in right_children),\n",
    "            max(p[1] for p in right_children)\n",
    "        )\n",
    "\n",
    "        self.children = [\n",
    "            Node(left_mbr, left_children, self.is_leaf),\n",
    "            Node(right_mbr, right_children, self.is_leaf)\n",
    "        ]\n",
    "        \n",
    "        self.is_leaf = False\n",
    "\n",
    "    # Method to search for points that intersect the MBR for the node\n",
    "    def query(self, rect: Rectangle, results: list | None = None):\n",
    "        if results is None:\n",
    "            results = []\n",
    "        \n",
    "        if self.mbr.intersects(rect):\n",
    "            if self.is_leaf:\n",
    "                for point in self.children:\n",
    "                    if rect.contains(point):\n",
    "                        results.append(point)\n",
    "            else:\n",
    "                for child in self.children:\n",
    "                    child.query(rect, results)\n",
    "        \n",
    "        return results"
   ]
  },
  {
   "cell_type": "code",
   "execution_count": 3,
   "metadata": {},
   "outputs": [],
   "source": [
    "# Class for implementing the R-Tree\n",
    "class RTree:\n",
    "    # Creates R-Tree with root node as MBR of everything (to infinity in all directions)\n",
    "    def __init__(self):\n",
    "        self.root = Node(Rectangle(float('inf'), float('inf'), float('-inf'), float('-inf')))\n",
    "    \n",
    "    # Method to insert point into the root node\n",
    "    def insert(self, point: tuple):\n",
    "        self.root.insert(point)\n",
    "    \n",
    "    # Method to search specific MBR for points\n",
    "    def query(self, rect: Rectangle):\n",
    "        return self.root.query(rect)"
   ]
  },
  {
   "cell_type": "code",
   "execution_count": 10,
   "metadata": {},
   "outputs": [
    {
     "name": "stdout",
     "output_type": "stream",
     "text": [
      "[(5, 4), (7, 2)]\n",
      "[]\n"
     ]
    }
   ],
   "source": [
    "# Creating empty tree\n",
    "r_tree = RTree()\n",
    "\n",
    "# Creating points and inserting into tree\n",
    "points = [(2, 3), (5, 4), (9, 6), (4, 7), (8, 1), (7, 2)]\n",
    "for point in points:\n",
    "    r_tree.insert(point)\n",
    "\n",
    "# Querying points within the MBR provided\n",
    "print(r_tree.query(Rectangle(3, 2, 10, 5)))\n",
    "\n",
    "# Another query with a rectangle that shouldn't produce any points\n",
    "print(r_tree.query(Rectangle(-1, -1, 0, 0)))"
   ]
  },
  {
   "cell_type": "markdown",
   "metadata": {},
   "source": [
    "# Geometric Algorithms\n",
    "\n",
    "In addition to specialized data structures for geospatial data, there are also specialised algorithms to use on these data structures. In this section, a few examples will be explored, specifically the area of a polygon and convex hull generation will be implemented."
   ]
  },
  {
   "cell_type": "markdown",
   "metadata": {},
   "source": [
    "## Advanced Geospatial/Geometric Algorithm: Area of a Polygon\n",
    "\n",
    "Calculating the area of polygons is a common task in spatial data science, but when the polygons are not simple (e.g., rectanges, triangles, circles, etc...) the method to calculate the area becomes more difficult than a simple equation. In this example, an algorithm known as the Shoelace Algorithm will be used to calculate the area of an irregular polygon.\n",
    "\n",
    "In this example, we will use a nested list of tuples (points, or X/Y coordinates) to represent the vertices of the Polygon. They need to be listed in counter-clockwise order."
   ]
  },
  {
   "cell_type": "code",
   "execution_count": 12,
   "metadata": {},
   "outputs": [],
   "source": [
    "def polygon_area(polygon: list):\n",
    "    # Calculate number of vertices\n",
    "    n_vertices = len(polygon)\n",
    "    \n",
    "    # Storing sums\n",
    "    sum_1 = 0\n",
    "    sum_2 = 0\n",
    "    \n",
    "    # Loop through vertices\n",
    "    for i in range(0, n_vertices - 1):\n",
    "        # Add the product of the X of the ith vertex times the Y of the next vertex, to sum_1\n",
    "        sum_1 += polygon[i][0] *  polygon[i+1][1]\n",
    "        \n",
    "        # Add the product of the Y of the ith vertex times the X of the next vertex, to sum_2\n",
    "        sum_2 += polygon[i][1] *  polygon[i+1][0]\n",
    "    \n",
    "    # Add the remaining values not included in the loop\n",
    "    # Last X with first Y\n",
    "    sum_1 += polygon[n_vertices - 1][0] * polygon[0][1]\n",
    "    \n",
    "    # First X with last Y\n",
    "    sum_2 += polygon[0][0] * polygon[n_vertices - 1][1]\n",
    "    \n",
    "    # Calculate the absolute value of the difference betweeb sums 1 and 2, divided by 2\n",
    "    area = abs(sum_1 - sum_2) / 2\n",
    "    \n",
    "    return area"
   ]
  },
  {
   "cell_type": "code",
   "execution_count": 15,
   "metadata": {},
   "outputs": [
    {
     "data": {
      "text/plain": [
       "1.0"
      ]
     },
     "execution_count": 15,
     "metadata": {},
     "output_type": "execute_result"
    }
   ],
   "source": [
    "# Calling function with easy example\n",
    "polygon_area(\n",
    "    [\n",
    "        (0, 0),\n",
    "        (1, 0),\n",
    "        (1, 1),\n",
    "        (0, 1)\n",
    "    ]\n",
    ")"
   ]
  },
  {
   "cell_type": "code",
   "execution_count": 14,
   "metadata": {},
   "outputs": [
    {
     "name": "stdout",
     "output_type": "stream",
     "text": [
      "32.0\n"
     ]
    }
   ],
   "source": [
    "# Calling function with more complex polygon\n",
    "polygon_area(\n",
    "    [\n",
    "        (2, 7),\n",
    "        (10, 1),\n",
    "        (8, 6),\n",
    "        (11, 7),\n",
    "        (7, 10)\n",
    "    ]\n",
    ")"
   ]
  }
 ],
 "metadata": {
  "kernelspec": {
   "display_name": "geo",
   "language": "python",
   "name": "python3"
  },
  "language_info": {
   "codemirror_mode": {
    "name": "ipython",
    "version": 3
   },
   "file_extension": ".py",
   "mimetype": "text/x-python",
   "name": "python",
   "nbconvert_exporter": "python",
   "pygments_lexer": "ipython3",
   "version": "3.1.undefined"
  }
 },
 "nbformat": 4,
 "nbformat_minor": 2
}
